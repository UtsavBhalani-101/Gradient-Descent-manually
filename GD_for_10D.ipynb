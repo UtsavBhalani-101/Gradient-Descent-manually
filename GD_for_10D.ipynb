{
 "cells": [
  {
   "cell_type": "code",
   "execution_count": 52,
   "id": "ef1394fb",
   "metadata": {},
   "outputs": [],
   "source": [
    "import random\n",
    "import numpy as np\n",
    "import pandas as pd\n",
    "import matplotlib.pyplot as plt\n",
    "import seaborn as sns\n",
    "\n",
    "from sklearn.model_selection import train_test_split, cross_val_score\n",
    "from sklearn.preprocessing import StandardScaler\n",
    "from sklearn.linear_model import LinearRegression, SGDRegressor\n",
    "from sklearn.datasets import load_diabetes\n",
    "\n",
    "from sklearn.metrics import r2_score"
   ]
  },
  {
   "cell_type": "code",
   "execution_count": null,
   "id": "55f89935",
   "metadata": {},
   "outputs": [],
   "source": [
    "# Load diabetes dataset (features X, target y)\n",
    "X, y = load_diabetes(return_X_y=True)"
   ]
  },
  {
   "cell_type": "code",
   "execution_count": null,
   "id": "86cbe033",
   "metadata": {},
   "outputs": [],
   "source": [
    "# Split into train/test for evaluation (80/20 split)\n",
    "x_train, x_test, y_train, y_test = train_test_split(X, y, test_size=0.2, random_state=42)"
   ]
  },
  {
   "cell_type": "code",
   "execution_count": null,
   "id": "a780b4a2",
   "metadata": {},
   "outputs": [
    {
     "name": "stdout",
     "output_type": "stream",
     "text": [
      "For Linear Regression\n",
      "The R2 score is:  0.4526027629719197\n",
      "The cross val score is:  0.4619602420450601\n"
     ]
    }
   ],
   "source": [
    "# Fit ordinary least squares linear regression (closed-form solution)\n",
    "lr = LinearRegression()\n",
    "lr.fit(x_train, y_train)\n",
    "y_pred = lr.predict(x_test)\n",
    "\n",
    "# Print evaluation metrics\n",
    "print(\"For Linear Regression\")\n",
    "print(\"The R2 score is: \", r2_score(y_test, y_pred))\n",
    "print(\"The cross val score is: \", np.mean(cross_val_score(lr, X, y, cv=10)))"
   ]
  },
  {
   "cell_type": "code",
   "execution_count": null,
   "id": "4879eb39",
   "metadata": {},
   "outputs": [
    {
     "name": "stdout",
     "output_type": "stream",
     "text": [
      "[  37.90402135 -241.96436231  542.42875852  347.70384391 -931.48884588\n",
      "  518.06227698  163.41998299  275.31790158  736.1988589    48.67065743]\n",
      "151.34560453985995\n"
     ]
    }
   ],
   "source": [
    "# Show learned coefficients and intercept from closed-form model\n",
    "print(lr.coef_)\n",
    "print(lr.intercept_)"
   ]
  },
  {
   "cell_type": "code",
   "execution_count": null,
   "id": "e945becf",
   "metadata": {},
   "outputs": [],
   "source": [
    "class StochasticGD:\n",
    "    # Simple stochastic gradient descent implementation\n",
    "    def __init__(self, learning_rate, epochs):\n",
    "        self.coef_ = None\n",
    "        self.intercept_ = None\n",
    "        self.learning_rate = learning_rate\n",
    "        self.epochs = epochs\n",
    "        \n",
    "    def fit(self, x_train, y_train):\n",
    "        # Initialize parameters: bias as 1 and coefficients as ones\n",
    "        self.intercept_ = 1\n",
    "        self.coef_ = np.ones(x_train.shape[1])\n",
    "        \n",
    "        # Loop over epochs and single-sample updates (stochastic)\n",
    "        for i in range(self.epochs):\n",
    "            for j in range(x_train.shape[0]):\n",
    "                idx = np.random.randint(0, x_train.shape[0])\n",
    "                \n",
    "                # Compute prediction for one random sample\n",
    "                y_hat = self.intercept_ + np.dot(x_train[idx], self.coef_)\n",
    "                # Gradient of squared error w.r.t. bias and weights\n",
    "                loss_func = -2 * (y_train[idx] - y_hat)\n",
    "                step_size = self.learning_rate * loss_func\n",
    "                self.intercept_ = self.intercept_ - step_size\n",
    "                \n",
    "                loss_func_coef = -2 * np.dot((y_train[idx] - y_hat), (x_train[idx]))\n",
    "                step_size_coef = self.learning_rate * loss_func_coef\n",
    "                self.coef_ = self.coef_ - step_size_coef\n",
    "                \n",
    "        print(self.coef_)\n",
    "        print(self.intercept_)\n",
    "        \n",
    "\n",
    "    def predict(self, x_test):\n",
    "        # Vectorized prediction using learned parameters\n",
    "        pred = np.dot(x_test, self.coef_) + self.intercept_\n",
    "        return pred"
   ]
  },
  {
   "cell_type": "code",
   "execution_count": null,
   "id": "24f78940",
   "metadata": {},
   "outputs": [
    {
     "name": "stdout",
     "output_type": "stream",
     "text": [
      "[  50.60334341 -154.4785072   446.40174712  332.27553948  -60.94330714\n",
      "  -97.01255353 -202.62272568  152.47182834  332.65810914  143.01153613]\n",
      "154.08559009697134\n"
     ]
    }
   ],
   "source": [
    "# Train stochastic GD model\n",
    "model = StochasticGD(learning_rate=0.1, epochs=10)\n",
    "model.fit(x_train, y_train)"
   ]
  },
  {
   "cell_type": "code",
   "execution_count": null,
   "id": "b71dbbd0",
   "metadata": {},
   "outputs": [
    {
     "name": "stdout",
     "output_type": "stream",
     "text": [
      "[  37.90402135 -241.96436231  542.42875852  347.70384391 -931.48884588\n",
      "  518.06227698  163.41998299  275.31790158  736.1988589    48.67065743]\n",
      "151.34560453985995\n"
     ]
    }
   ],
   "source": [
    "# Re-print closed-form model params for comparison\n",
    "print(lr.coef_)\n",
    "print(lr.intercept_)"
   ]
  },
  {
   "cell_type": "code",
   "execution_count": null,
   "id": "7497a910",
   "metadata": {},
   "outputs": [
    {
     "name": "stdout",
     "output_type": "stream",
     "text": [
      "0.4539525079174145\n"
     ]
    }
   ],
   "source": [
    "# Evaluate stochastic model on test set\n",
    "pred2 = model.predict(x_test)\n",
    "print(r2_score(y_test, pred2))"
   ]
  },
  {
   "cell_type": "code",
   "execution_count": null,
   "id": "9aa25db6",
   "metadata": {},
   "outputs": [],
   "source": [
    "class MiniBatchGD:\n",
    "    # Mini-batch gradient descent implementation\n",
    "    def __init__(self, learning_rate, epochs, batch_size):\n",
    "        self.coef_ = None\n",
    "        self.intercept_ = None\n",
    "        self.learning_rate = learning_rate\n",
    "        self.epochs = epochs\n",
    "        self.batch_size = batch_size\n",
    "        \n",
    "    def fit(self, x_train, y_train):\n",
    "        # Initialize parameters to ones/zeros\n",
    "        self.coef_ = np.ones(x_train.shape[1])\n",
    "        self.intercept_ = 0\n",
    "        \n",
    "        # Loop over epochs and batches\n",
    "        for i in range(self.epochs):\n",
    "            for j in range(int(x_train.shape[0] / self.batch_size)):\n",
    "                # Randomly sample a minibatch (unbiased sampling)\n",
    "                idx = random.sample(range(x_train.shape[0]), self.batch_size)\n",
    "            \n",
    "                # Compute batch predictions and gradient estimates\n",
    "                yhat = self.intercept_ + np.dot(x_train[idx], self.coef_)\n",
    "                loss_func = -2 * np.mean(y_train[idx] - yhat)\n",
    "                step_size = self.learning_rate * loss_func\n",
    "                self.intercept_ = self.intercept_ - step_size\n",
    "                \n",
    "                loss_func_coef = -2 * np.dot((y_train[idx] - yhat), x_train[idx]) \n",
    "                step_size_coef = self.learning_rate * loss_func_coef\n",
    "                self.coef_ = self.coef_ - step_size_coef\n",
    "                \n",
    "        # Print parameters after training for quick check\n",
    "        print(self.intercept_)\n",
    "        print(self.coef_)\n",
    "                \n",
    "    \n",
    "    def predict(self, x_test):\n",
    "        # Vectorized prediction for test data\n",
    "        pred = self.intercept_ + np.dot(x_test, self.coef_)\n",
    "        return pred\n",
    "    "
   ]
  },
  {
   "cell_type": "code",
   "execution_count": 67,
   "id": "a5690a22",
   "metadata": {},
   "outputs": [
    {
     "name": "stdout",
     "output_type": "stream",
     "text": [
      "150.895005418002\n",
      "[  49.10736088 -166.1637157   477.79185832  305.59559249  -47.89716648\n",
      "  -94.49919422 -206.44714151  151.22152275  346.20352146  126.51327416]\n"
     ]
    }
   ],
   "source": [
    "model2 = MiniBatchGD(learning_rate=0.01, epochs=100, batch_size=32)\n",
    "model2.fit(x_train, y_train)"
   ]
  },
  {
   "cell_type": "code",
   "execution_count": 68,
   "id": "1820ba27",
   "metadata": {},
   "outputs": [
    {
     "name": "stdout",
     "output_type": "stream",
     "text": [
      "[  37.90402135 -241.96436231  542.42875852  347.70384391 -931.48884588\n",
      "  518.06227698  163.41998299  275.31790158  736.1988589    48.67065743]\n",
      "151.34560453985995\n"
     ]
    }
   ],
   "source": [
    "print(lr.coef_)\n",
    "print(lr.intercept_)"
   ]
  },
  {
   "cell_type": "code",
   "execution_count": 69,
   "id": "e7a63724",
   "metadata": {},
   "outputs": [
    {
     "name": "stdout",
     "output_type": "stream",
     "text": [
      "0.45757544381359205\n"
     ]
    }
   ],
   "source": [
    "pred2 = model2.predict(x_test)\n",
    "print(r2_score(y_test, pred2))"
   ]
  },
  {
   "cell_type": "code",
   "execution_count": 86,
   "id": "d71c1e38",
   "metadata": {},
   "outputs": [],
   "source": [
    "sgd = SGDRegressor(loss='squared_error', max_iter=120, tol=1e-3, learning_rate='constant', eta0=0.1)"
   ]
  },
  {
   "cell_type": "code",
   "execution_count": 87,
   "id": "82b75be3",
   "metadata": {},
   "outputs": [],
   "source": [
    "sgd.fit(x_train, y_train)\n",
    "pred3 = sgd.predict(x_test)"
   ]
  },
  {
   "cell_type": "code",
   "execution_count": 88,
   "id": "690ecb9e",
   "metadata": {},
   "outputs": [
    {
     "name": "stdout",
     "output_type": "stream",
     "text": [
      "0.4618410369838265\n",
      "0.44720584575357225\n"
     ]
    }
   ],
   "source": [
    "print(r2_score(y_test, pred3))\n",
    "print(np.mean(cross_val_score(sgd, X, y, cv=10)))"
   ]
  },
  {
   "cell_type": "code",
   "execution_count": null,
   "id": "fec53112",
   "metadata": {},
   "outputs": [],
   "source": []
  }
 ],
 "metadata": {
  "kernelspec": {
   "display_name": "mlc",
   "language": "python",
   "name": "python3"
  },
  "language_info": {
   "codemirror_mode": {
    "name": "ipython",
    "version": 3
   },
   "file_extension": ".py",
   "mimetype": "text/x-python",
   "name": "python",
   "nbconvert_exporter": "python",
   "pygments_lexer": "ipython3",
   "version": "3.13.2"
  }
 },
 "nbformat": 4,
 "nbformat_minor": 5
}
