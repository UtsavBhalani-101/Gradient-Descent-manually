{
 "cells": [
  {
   "cell_type": "code",
   "execution_count": 2,
   "id": "e7365bcc",
   "metadata": {},
   "outputs": [],
   "source": [
    "import numpy as np\n",
    "import pandas as pd\n",
    "import matplotlib.pyplot as pltz\n",
    "import seaborn as sns\n",
    "\n",
    "from sklearn.model_selection import train_test_split, cross_val_score\n",
    "from sklearn.preprocessing import StandardScaler\n",
    "from sklearn.linear_model import LinearRegression\n",
    "\n",
    "from sklearn.metrics import r2_score\n"
   ]
  },
  {
   "cell_type": "code",
   "execution_count": 3,
   "id": "8af2f0f2",
   "metadata": {},
   "outputs": [
    {
     "name": "stdout",
     "output_type": "stream",
     "text": [
      "First 5 X values:\n",
      " [[0.74908024]\n",
      " [1.90142861]\n",
      " [1.46398788]\n",
      " [1.19731697]\n",
      " [0.31203728]]\n",
      "\n",
      "First 5 y values:\n",
      " [[6.33428778]\n",
      " [9.40527849]\n",
      " [8.48372443]\n",
      " [5.60438199]\n",
      " [4.71643995]]\n"
     ]
    },
    {
     "data": {
      "image/png": "[encoded data removed]",
      "text/plain": [
       "<Figure size 640x480 with 1 Axes>"
      ]
     },
     "metadata": {},
     "output_type": "display_data"
    }
   ],
   "source": [
    "import numpy as np\n",
    "import matplotlib.pyplot as plt\n",
    "\n",
    "# Set a random seed for reproducibility\n",
    "np.random.seed(42)\n",
    "\n",
    "# Generate 100 data points for X\n",
    "X = 2 * np.random.rand(100, 1)\n",
    "\n",
    "# Generate y using a linear equation y = 4 + 3x + noise\n",
    "y = 4 + 3 * X + np.random.randn(100, 1)\n",
    "\n",
    "# Let's look at the first 5 data points\n",
    "print(\"First 5 X values:\\n\", X[:5])\n",
    "print(\"\\nFirst 5 y values:\\n\", y[:5])\n",
    "\n",
    "# Visualize the data\n",
    "plt.scatter(X, y)\n",
    "plt.title(\"Data\")\n",
    "plt.xlabel(\"X (Feature)\")\n",
    "plt.ylabel(\"y (Target)\")\n",
    "plt.grid(True)\n",
    "plt.show()"
   ]
  },
  {
   "cell_type": "markdown",
   "id": "5a6c0ae5",
   "metadata": {},
   "source": [
    "First testing the data with normal Linear regression"
   ]
  },
  {
   "cell_type": "code",
   "execution_count": 4,
   "id": "9adb66e7",
   "metadata": {},
   "outputs": [],
   "source": [
    "x_train, x_test, y_train, y_test = train_test_split(X, y, test_size=0.2, random_state=42)"
   ]
  },
  {
   "cell_type": "code",
   "execution_count": 5,
   "id": "c600db0a",
   "metadata": {},
   "outputs": [
    {
     "name": "stdout",
     "output_type": "stream",
     "text": [
      "For Linear Regression\n",
      "The R2 score is:  0.8072059636181392\n",
      "The cross val score is:  0.7196196932113306\n"
     ]
    }
   ],
   "source": [
    "lr = LinearRegression()\n",
    "lr.fit(x_train, y_train)\n",
    "y_pred = lr.predict(x_test)\n",
    "\n",
    "print(\"For Linear Regression\")\n",
    "print(\"The R2 score is: \", r2_score(y_test, y_pred))\n",
    "print(\"The cross val score is: \", np.mean(cross_val_score(lr, X, y, cv=10)))"
   ]
  },
  {
   "cell_type": "code",
   "execution_count": 6,
   "id": "12abb32b",
   "metadata": {},
   "outputs": [
    {
     "name": "stdout",
     "output_type": "stream",
     "text": [
      "[[2.79932366]]\n",
      "[4.14291332]\n"
     ]
    }
   ],
   "source": [
    "print(lr.coef_)\n",
    "print(lr.intercept_)"
   ]
  },
  {
   "cell_type": "code",
   "execution_count": 7,
   "id": "6c9962e9",
   "metadata": {},
   "outputs": [],
   "source": [
    "class GradientDescent:\n",
    "    def __init__(self, learning_rate, epochs):\n",
    "        self.coef_ = None\n",
    "        self.intercept_ = None\n",
    "        self.learning_rate = learning_rate\n",
    "        self.epochs = epochs\n",
    "    \n",
    "    def fit(self, x_train, y_train):\n",
    "        \"\"\"Starting off by coefficent = 1 and intercept = 0, then updating each\"\"\"\n",
    "        self.coef_ = 1\n",
    "        self.intercept_ = 0\n",
    "        \n",
    "        for i in range(self.epochs):\n",
    "            \"\"\"first we update intercept then coefficent\"\"\"\n",
    "            \n",
    "            # updating the intercept\n",
    "            loss_func = -2 * np.sum(y_train - (self.coef_ * x_train) - self.intercept_)\n",
    "            step_size = self.learning_rate * loss_func\n",
    "            self.intercept_ = self.intercept_ - step_size\n",
    "            \n",
    "            loss_func_coef = -2 * np.sum((y_train - (self.coef_ * x_train) - self.intercept_) * x_train)\n",
    "            step_size_coef = self.learning_rate * loss_func_coef\n",
    "            self.coef_ = self.coef_ - step_size_coef\n",
    "            \n",
    "        print(self.coef_)\n",
    "        print(self.intercept_)\n",
    "            \n",
    "        \n",
    "    \n",
    "    def predict(self, x_test):\n",
    "        pred = (self.coef_ * x_test) + self.intercept_\n",
    "        return pred"
   ]
  },
  {
   "cell_type": "code",
   "execution_count": 8,
   "id": "792722c7",
   "metadata": {},
   "outputs": [
    {
     "name": "stdout",
     "output_type": "stream",
     "text": [
      "2.799323657480287\n",
      "4.14291331945855\n"
     ]
    }
   ],
   "source": [
    "model = GradientDescent(learning_rate=0.01, epochs=120)\n",
    "model.fit(x_train, y_train)\n"
   ]
  },
  {
   "cell_type": "code",
   "execution_count": 9,
   "id": "a9a14cef",
   "metadata": {},
   "outputs": [
    {
     "name": "stdout",
     "output_type": "stream",
     "text": [
      "[[2.79932366]]\n",
      "[4.14291332]\n"
     ]
    }
   ],
   "source": [
    "print(lr.coef_)\n",
    "print(lr.intercept_)"
   ]
  },
  {
   "cell_type": "code",
   "execution_count": 10,
   "id": "111132bd",
   "metadata": {},
   "outputs": [
    {
     "name": "stdout",
     "output_type": "stream",
     "text": [
      "0.807205963618138\n"
     ]
    }
   ],
   "source": [
    "y_pred1 = model.predict(x_test)\n",
    "print(r2_score(y_test, y_pred1))"
   ]
  },
  {
   "cell_type": "code",
   "execution_count": null,
   "id": "b4c4ecc9",
   "metadata": {},
   "outputs": [],
   "source": []
  }
 ],
 "metadata": {
  "kernelspec": {
   "display_name": "mlc",
   "language": "python",
   "name": "python3"
  },
  "language_info": {
   "codemirror_mode": {
    "name": "ipython",
    "version": 3
   },
   "file_extension": ".py",
   "mimetype": "text/x-python",
   "name": "python",
   "nbconvert_exporter": "python",
   "pygments_lexer": "ipython3",
   "version": "3.13.2"
  }
 },
 "nbformat": 4,
 "nbformat_minor": 5
}
